{
 "cells": [
  {
   "cell_type": "markdown",
   "metadata": {},
   "source": [
    "python文件读写,以后就用with open语句 \n",
    "https://www.cnblogs.com/ymjyqsx/p/6554817.html"
   ]
  },
  {
   "cell_type": "markdown",
   "metadata": {},
   "source": [
    "#####  操作系统打开文件\n",
    "\n",
    "读写文件就是请求操作系统打开一个文件, 在磁盘上读写文件的功能都是由操作系统提供的. \n",
    "\n",
    "\n",
    "##### Python内置了读写文件的函数\n",
    "现代操作系统不允许普通的程序直接操作**磁盘**，所以，读写文件就是**请求操作系统**打开一个**文件对象（通常称为文件描述符）**. \n",
    "然后，通过操作系统提供的接口**从这个文件对象中读取数据（读文件）**，或者把数据写入这个**文件对象（写文件）**。\n",
    "\n"
   ]
  },
  {
   "cell_type": "markdown",
   "metadata": {},
   "source": [
    "##### open()\n",
    "\n",
    "Python内置的读写文件的函数"
   ]
  },
  {
   "cell_type": "markdown",
   "metadata": {},
   "source": [
    "# 1. open() function\n",
    "\n",
    "There are 3 steps:\n",
    "1. open file \n",
    "2. manipulate(read) file, \n",
    "3. close file\n",
    "\n",
    "文件使用完毕后必须关闭，因为文件对象会占用操作系统的资源，并且操作系统同一时间能打开的文件数量也是有限的：\n",
    "\n"
   ]
  },
  {
   "cell_type": "code",
   "execution_count": 1,
   "metadata": {},
   "outputs": [],
   "source": [
    "# step 1, open file\n",
    "input_file1 = open('english.txt', 'r')\n",
    "# - 'r' means to read "
   ]
  },
  {
   "cell_type": "code",
   "execution_count": 2,
   "metadata": {},
   "outputs": [
    {
     "data": {
      "text/plain": [
       "''"
      ]
     },
     "execution_count": 2,
     "metadata": {},
     "output_type": "execute_result"
    }
   ],
   "source": [
    "# step 2, read file\n",
    "# .read() method can read all the data in the file object. \n",
    "\n",
    "\n",
    "input_file1.read()\n",
    "\n",
    "\n"
   ]
  },
  {
   "cell_type": "markdown",
   "metadata": {},
   "source": [
    "调用 read() 方法可以一次读取文件的全部内容，Python把内容读到内存，用一个str对象表示：\n",
    "\n",
    "调用 readline() 可以每次读取一行内容，调用 readlines() 一次读取所有内容并按行返回list。"
   ]
  },
  {
   "cell_type": "code",
   "execution_count": null,
   "metadata": {
    "scrolled": true
   },
   "outputs": [],
   "source": []
  },
  {
   "cell_type": "code",
   "execution_count": null,
   "metadata": {},
   "outputs": [],
   "source": []
  },
  {
   "cell_type": "code",
   "execution_count": 3,
   "metadata": {
    "scrolled": true
   },
   "outputs": [
    {
     "data": {
      "text/plain": [
       "'芳心向春尽，所得是沾衣。\\n'"
      ]
     },
     "execution_count": 3,
     "metadata": {},
     "output_type": "execute_result"
    }
   ],
   "source": [
    "input_file2 = open('chinese_poem.txt', 'r')\n",
    "\n",
    "input_file2.read()"
   ]
  },
  {
   "cell_type": "code",
   "execution_count": 4,
   "metadata": {},
   "outputs": [],
   "source": [
    "# step 3, close file\n",
    "input_file1.close()\n",
    "input_file2.close()"
   ]
  },
  {
   "cell_type": "markdown",
   "metadata": {},
   "source": [
    "# 2. with open()\n",
    "\n",
    "每次都这么写.close()实在太繁琐, \n",
    "所以，Python引入了 with 语句来自动帮我们调用close()方法\n"
   ]
  },
  {
   "cell_type": "code",
   "execution_count": 5,
   "metadata": {},
   "outputs": [
    {
     "name": "stdout",
     "output_type": "stream",
     "text": [
      "\n"
     ]
    }
   ],
   "source": [
    "with open('english.txt', 'r') as inputFile3:\n",
    "    print(inputFile3.read())"
   ]
  },
  {
   "cell_type": "code",
   "execution_count": 6,
   "metadata": {},
   "outputs": [
    {
     "name": "stdout",
     "output_type": "stream",
     "text": [
      "芳心向春尽，所得是沾衣。\n",
      "\n"
     ]
    }
   ],
   "source": [
    "with open('chinese_poem.txt', 'r') as inputFile4:\n",
    "    print(inputFile4.read())"
   ]
  },
  {
   "cell_type": "markdown",
   "metadata": {},
   "source": [
    "# 3. write file with open() funciton "
   ]
  },
  {
   "cell_type": "code",
   "execution_count": 7,
   "metadata": {
    "scrolled": true
   },
   "outputs": [],
   "source": [
    "input_file1  = open(\"english.txt\", \"w\")\n",
    "\n",
    "input_file1.write(\"the new line\")\n",
    "\n",
    "input_file1.close()"
   ]
  },
  {
   "cell_type": "code",
   "execution_count": 8,
   "metadata": {},
   "outputs": [
    {
     "data": {
      "text/plain": [
       "'the new line'"
      ]
     },
     "execution_count": 8,
     "metadata": {},
     "output_type": "execute_result"
    }
   ],
   "source": [
    "input_file1  = open(\"english.txt\", \"r\")\n",
    "input_file1.read()\n"
   ]
  },
  {
   "cell_type": "code",
   "execution_count": 9,
   "metadata": {},
   "outputs": [],
   "source": [
    "input_file1.close()"
   ]
  },
  {
   "cell_type": "markdown",
   "metadata": {},
   "source": [
    "##### 必要调用 f.close()来关闭文件? \n",
    "\n",
    "写文件时，操作系统往往不会立刻把数据写入磁盘，而是放到内存缓存起来，空闲的时候再慢慢写入。\n",
    "只有调用close()方法时，操作系统才保证把没有写入的数据全部写入磁盘。\n",
    "忘记调用close()的后果是数据可能只写了一部分到磁盘，剩下的丢失了。"
   ]
  },
  {
   "cell_type": "markdown",
   "metadata": {},
   "source": [
    "# 4. write file by with open()"
   ]
  },
  {
   "cell_type": "code",
   "execution_count": 11,
   "metadata": {},
   "outputs": [],
   "source": [
    "with open('english.txt', 'w') as inputFile2:\n",
    "    inputFile2.write('the newer line')"
   ]
  },
  {
   "cell_type": "code",
   "execution_count": 12,
   "metadata": {},
   "outputs": [
    {
     "name": "stdout",
     "output_type": "stream",
     "text": [
      "the newer line\n"
     ]
    }
   ],
   "source": [
    "with open('english.txt', 'r') as inputFile4:\n",
    "    print(inputFile4.read())"
   ]
  },
  {
   "cell_type": "markdown",
   "metadata": {},
   "source": [
    "# 5. 写入特定编码的文本文件\n",
    "\n",
    "\n",
    "要读取非UTF-8编码的文本文件，需要给open()函数传入encoding参数，将字符串自动转换成指定编码. \n",
    "\n",
    "例如，读取GBK编码的文件, encoding = 'gbk'\n"
   ]
  },
  {
   "cell_type": "code",
   "execution_count": 13,
   "metadata": {},
   "outputs": [
    {
     "data": {
      "text/plain": [
       "'the newer line'"
      ]
     },
     "execution_count": 13,
     "metadata": {},
     "output_type": "execute_result"
    }
   ],
   "source": [
    "inputFile1 = open('english.txt', 'r', encoding = 'gbk')\n",
    "inputFile1.read()"
   ]
  },
  {
   "cell_type": "markdown",
   "metadata": {},
   "source": [
    "# 6. 写入二进制文件\n",
    "\n",
    "前面讲的默认都是读取文本文件，并且是UTF-8编码的文本文件。要读取二进制文件，比如图片、视频等等，用'rb'模式打开文件即可：\n",
    "\n"
   ]
  },
  {
   "cell_type": "code",
   "execution_count": 15,
   "metadata": {},
   "outputs": [
    {
     "data": {
      "text/plain": [
       "b'\\x89PNG\\r\\n\\x1a\\n\\x00\\x00\\x00\\rIHDR\\x00\\x00\\x01i\\x00\\x00\\x01i\\x02\\x03\\x00\\x00\\x00#\\x151\\xdd\\x00\\x00\\x00\\tPLTE\\x00\\x00\\x00\\xdd\\xbck\\xff\\xff\\xff\\x14mU4\\x00\\x00\\x06\\x9aIDATx\\x9c\\xed\\x9c\\xcd\\x8a\\xe3:\\x10\\x85\\x15C x\\xdd\\xd9g\\x19\\xf4\\x14\\xe6\\xc2\\xddd\\x95;\\xb8\\xdf\\xc7700\\xe4)2\\xbd2z\\xca\\xb1\\xca\\xf9\\x93S\\x92JNN\\x12M\\xdb0\\xc3\\xb4\\x90\\xbe\\xf6\\x94]\\xe7\\x94d\\xd9\\xea\\x13vTjbO\\xec\\xd7\\xb3+\\x858z6\\x04\\xad\\x96\\xc4\\x9e\\xdb\\xff\\xc0\\xb2\\xfbS\\xdb\\x7f\\xfcg\\xff\\xfa\\xf7\\xfe\\xa6\\x89=\\xb1\\xbf7[\\xcd`\\xec\\xad\\xcd]\\x10\\xbbRj\\x8ebw\\x9a3\\x03\\xb1\\xeb^,\\xb3co{!\\xfe\\x86\\xec\\xd7x\\xda{\\xc7\\xe45\\xec\\\\s\\x07\\xa9\\'P\\x1dD\\xea7\\xd2w\\x06l\\xaa\\xa8=\\xec\\xdaFok\\xff\\x9b\\xa3bRS\\xf4=\\xecJ\\x91|\\xcc\\xc4l\\xf7Zni\\xa8\\x87m\\xb3\\xac\\xa6[v\\xd4=X\\xd1P\\x9em\\xb1\\xf3-\\xa5\\xf1\\xa8\\xdc\\xe9\\x15\\x80g[\\xec\\xcc\\xfe\\xf2\\xf9\\x1b\\xb0]\\xad\\xa2\\xdf4\\xf7\\xb0\\xab\\x93n\\xcf\\xfe\\n\\xf6}\\xde\\xe5;\\xf2\\x8e\\xc9k\\xd8\\xb9\\xe6\\x0eRO\\xa0:\\x88\\xd4\\xef\\xc7\\xfa\\x0euI\\xf5K\\n\\x95;\\x90c\\xffc\\x0e\\xd711\\xed2\\xce\\xa6^\\xee@\\x96\\xad\\x8dY^\\xbal\\x8c\\xf9\\x19gS/w \\xc7\\xae\\r\\xd1N]\\xba\\x01\\xbf\\xe3l\\xdbk0\\x90c\\xff0D;\\xe5N\\xf7S\\x1beS/w\\xe0\\xd3\\xd9\\x9b\\x9ev\\xecb\\x07\\x98h\\xfdM\\xbdJg\\xe0\\x9b\\xb1\\xeby*\\xfb\\xda\\x89\\xa8\\xcb\\xf9\\xa7\\xc2\\x8e\\x8a\\xbaWqf\\x87=\\xed\\xd1\\xe7\\xfd\\x1e\\xf1\\xbe\\x8f\\x9dk\\xee \\xf5\\x04\\xa9\\x83P\\xfdF\\xf9\\xce\\xf8\\t\\x9f\\xd3\\xd4\\xbb\\xaa\\xcb\\x96\\x05 \\xdat\\xac\\x06\\\\\\xb6\\xec\\xc2E\\x9b\\x8eU\\x8c\\xcb\\x96\\xddp\\xd1\\xa6c\\xf5\\xe5\\xb0e\\x89\\x12o:V\\x8dOc\\xcb\\x84)\\xdat\\xaa\\xd2\\xf3f\\'\\x19\\x98\\xf8\\xc8;&O`\\xe7\\x9a;H=\\x81\\xea R\\xbf\\x91\\xbe#\\x1d%\\xfbu\\x89\\xecZ\\x9b9\\x8a\\xfd\\x83n$\\x0c{C\\t\\x80ak\\x12\\x85\\xec\\xd8V\\x14\\xba\\xec\\xfa\\x16l\\xb1MYv3\\xca\\xd3\\xb2\\x8b\\xc9;\\xb0s\\xcd\\x1d\\xa8\\x9e u\\x10\\xa9\\xdf\\xf7\\xf8\\xce]~\\x19\\x9e\\x03\\xde\\xf1@\\xf1s8\\xe9\\x1d\\xb2\\xab\\xf1\\x0fB?\\x87\\x93\\xf5![\\x8d\\x7f\\x80\\xfb9\\\\d\\x18\\xd6\\x83J\\x8d~\\xf0<\\\\\\x1cy&\\xfb\\x9e\\x07\\xfd\\xc3\\xc5\\xa8\\xec\\xd9bO\\x0b\\x1d\\xe1\\xb5\\xc7\\xecb\\xf2\\x04v\\xae\\xb9\\x83\\xd4\\x13\\xa8\\x0e\"\\xf5\\x1b\\xe9;\\t \\x80\\x17O\\xec\\x89\\x9d\\x1f\\xfb!\\x9evs\\xe4\\x1d\\x93\\x89=\\xb1\\xdf\\x8a=\\xb4\\xbd\\xdbQBWe\\xd8\\x15\\xed\\xaa\\t\\x8c\\x92V\\x03\\x0c\\x9b\\x94 4JZ\\xc50\\xcft\\x15\\r\\r\\x8c\\x92V_\\xb7\\xecm?\\xd4?J\\\\5r\\xecE\\x8c\\xbd3#\\xd9\\x95Z\\xdb\\xd3\\xf2\\x8f\\xda\\x16;Y\\x95\\xce\\xb1\\x17\\x11\\xb6\\x82\\xb2\\xdb\\x04\\xb6\\xebE\\x8b\\x98Y5\\xc5HO\\x13\\x9cw\\xc7\\xc6\\xc5\\x04\\xc8nR\\xe2\\xfd\\xbc\\xdc\\xc1\\xb1\\x91z\\x82\\xd4A\\xa8~\\xa3|\\'\\xba\\x81\\xf2\\xdc\\xc4\\x9cA\\xca\\xda#\\xb3\\xf8z\\xd9\\x0b\\xcaD.e\\xed\\x91Y4\\xbe\\xecae\\xaex\\xca\\xda#\\xb3\\xd8]\\xd1\\xad\\xcd\\xdf\\xa9Ik\\x8f\\xcc\"}/o|\\x86%\\xad\\x9f<\\x94=\\xd8\\x90}\\xfbP\\xe4\\xb2G\\xbb\\xeaO\\xe3\\x9a\\x9d\\xb2^\\x05aW\\x0fe\\xf3\\x9e\\x94\\xf4\\xf0L\\xb8\\xf6\\xf8\\xd8\\xf3\\xce\\xfcZ\\xe6\\x9a;H=\\x81\\xea R\\xbfQ\\xbe\\x13}\\nGo\\x00P/n\\x03%3\\xf0\\xcc\\x0e\\xbe\\xb9@M\\xa5\\xf9\\xbf\\x0f\\xd3\\xb6O\\xe7H5p\\xc5\\x0e\\xbeqa\\x9bj{\\xd7\\xd0\\xe5\\xa5+\\xce\\\\K/\\xfb|w\\xf9\\xd8\\xf6\\xf6]\\xd2mi\\xef\\xd4x\\xf5u\\xc5>g\\x85\\x8fmS\\xfa\\xa7M\\xa7\\x0f\\xdb5Z5:\\xec\\xe2\\x10c\\x17\\x1d{\\xdfvl}\\xe8\\xd8Z\\xcc\\xae\\xd5b\\xe1}\\xa3\\x88\\x9at\\xdb\\x9a\\x83)\\x0f\\x9d\\xa4\\xaf\\xec\\x997M\\xb0JOd\\x9b\\x8e\\xbd\\xffub\\xab\\x14\\xf6:\\xc6\\xde\\x9d\\xd8\\xda\\xbaQ\\x19\\x9e]8\\x9eV\\xfc\\n[\\x96n\\xd7\\x96\\xbd\\xb66\\xd7\\x07%\\xdc\\xff\\xe2i\\xb5\\x9d\\xfa\\t\\xe2\\xbd\\xa7\\x93^\\xa5\\xc6D\\xc6nm\\xbcW\\x89\\xd7\\xb2\\xbb\\x07\\xc3\\xec\\xee\\x1e<\\xb2K\\x1b\\x0e-\\x8c7:w\\x80l\\xa4\\x9e u\\x10\\xa9\\xdfH\\xdf\\xb9\\x8c\\n\\xce\\xee\\xc6{Zt/\\xe8\\xa5\\xd7\\xd0\\xd4\\xa3\\xd72\\xba\\x87\\xf5\\xd2kX\\x8c\\x84\\xd8t\\x0fF\\xf7\\xde\\x9e{\\xdd\\x14Q!\\xb6M\\x88\\x8f\\xe8\\x9e\\xe1s\\xaf\\x9b\\xe2/\\xc8.[9[w\\xecF\\xcc&\\x8d-b{\\xb4\\xa9\\xd0-L\\xabMi\\xb4n\\xe5\\xec\\x95\\x98\\xfde\\xd9\\xe6\\r\\xd8Go\\x95\\xbe\\x8c\\xb6\\xb7\\xec\\x83;)\\x0b{Z#>\\xef\\xa6\\xec\\xd8{#\\x8fI\\xa1\\xc4lC\\xd7\\x12\\xc8V\\xe2k\\x89\\xcd\\x1d \\x1b\\xa9\\'H\\x1dD\\xea7\\xd2w\\xe2~\\x99\\xdct\\x89I\\xca.\\xcfDv\\xd2\\xee\\xd4Dv\\xd2\\xae\\xdaDv\\xd2n\\xe0Tv[\\xa2\\xd8\\xb5\\xf9\\xfa\\x92\\xef\\xbe~\\'v\\x17\\x13\\x08\\xbbS {\\xdeM\\xd4\\xcf\\x92\\x8e)\\xde~66w\\x80l\\xa4\\x9e u\\x10\\xa9\\xdfH\\xdf\\xf1v\\x91}\\xa3\\x843\\xda(\\xdb\\xb5~_\\xe4\\xd8\\x02!\\xcavK\\x16\\xdf\\x15g\\x0b\\x9b(\\xdb-\\xb5|w*[\\x90\\xc5\\xd8\\x83\\xd7==\\x19\\xc6\\xbf\\x14\\xfaJ\\xb6\\xfbz\\xad\\xef\\xbd#\\xfe%\\xdc\\xbc\\xd9~_\\x1aL\\xdd<\\x8f\\xd8\\xf8\\t^\\xde1y\\r;\\xd7\\xdcA\\xea\\tT\\x07\\x91\\xfa\\x8d\\xf4\\x9d\\xd4\\xa6\\x94\\xef=\\xa66%}/,\\xad)\\xe9;g\\x89MI\\xdfgKl\\xaaT\\xc2w\\xe5\\xde\\x88mu[\\xfa\\x1d\\xbf\\xf7f\\x8f\\x9b\\x87\\xc5\\x8e\\xbcc\\x92\\x07;\\xd7\\xdcA\\xea\\tR\\x07\\x91\\xfa\\x9d\\xf6\\xbdG\\x17\\xc4\\xac~z\\'\\x8f\\x0c;\\xb4\\xd2\\xca\\xac\\xda\\xfa\\'\\xbd\\x0c;\\xb4B\\xcc\\xac6\\xfb\\'\\xeb\\xb7\\xec\\xe0\\xca\\xb6\\xbd}\\x85\\xa5\\x16\\xc7\\x0e\\xae\\xc8\\xdb\\x94\\xfe\\x10\\x95\\x88#\\xd8+\\xdd\\xb1u1\\x92\\xbd1\\x83miW\\xa3juh\\x9a\\xa2]\\xb7\\xf1\\x92|\\x04{\\xa5\\x9a\\xc2h\\x10\\xbbT~v\\xc5\\xb1\\xaf\\x9d\\xa84&\\xf0\\xa4\\xac?\\xef]|\\xea\\xc6z\\x9a$&:\\xe1\\xbc\\x13\\xd8\\xdd\\xb54k\\xc1\\xf4j\\x0c[w\\xf1^\\xab\\x91\\xec\\xd7\\xe5\\xce}l\\xa4\\x9e u\\x10\\xaa\\xdfH\\xdf\\x19\\xd8\\x9e\\x07\\xe4;\\x03\\xc1<\\xcdn\\x92\\xa1&\\xdfw\\x9d+\\xcf\\xbe\\x99\\xb8\\xcf\\xd3\\xe6\\x1ej\\xaa<\\xdf\\xa3V\\xfc~\\x1fA}B\\x9b\\x92\\xa8I\\xf1\\xdf\\xd1\\xf6\\xedS\\x12\\xd4U\\x9b\\xfe&_z\\xbf\\xff\\xed\\xdb_%\\xa8\\x077_\\x07\\x1da7\\xcdH\\xb6\\xde\\xed\\xf7\\xbfm\\x93\\xef{\\xebU\\xb1k\\xd4\\xb8\\xfa[\\x7f\\xc5\\xd8\\x9e}x\\xcfe\\xdf\\xd8\\x91e\\x1f\\xbc\\xc6FG\\xc3\\x1bY\\xd0\\xd3r\\x8a\\t\\xc3>h\\x14\\x1b\\x9a;@6RO\\x90:\\x88\\xd4o\\xa8\\xef\\x8c\\x9e\\x03\\n\\xfcrbO\\xec\\xbf\\x87\\x1ds\\xa7qG\\xde1\\x99\\xd8\\x13{bO\\xec\\x89\\x9d\\'\\x1b\\xe9i\\x15\\x84}\\xaczA\\xc7\\xc4\\x9e\\xd8/g\\xff\\x01\\xf5\\xf6,\\xe2\\xa1B\\xeb\\xa1\\x00\\x00\\x00\\x00IEND\\xaeB`\\x82'"
      ]
     },
     "execution_count": 15,
     "metadata": {},
     "output_type": "execute_result"
    }
   ],
   "source": [
    "f = open('test.png', 'rb')\n",
    "f.read()\n"
   ]
  },
  {
   "cell_type": "markdown",
   "metadata": {},
   "source": [
    "b'\\xff\\xd8\\xff\\xe1\\x00\\x18Exif\\x00\\x00...' # 十六进制表示的字节"
   ]
  },
  {
   "cell_type": "code",
   "execution_count": null,
   "metadata": {},
   "outputs": [],
   "source": []
  },
  {
   "cell_type": "code",
   "execution_count": null,
   "metadata": {},
   "outputs": [],
   "source": []
  },
  {
   "cell_type": "code",
   "execution_count": null,
   "metadata": {},
   "outputs": [],
   "source": []
  }
 ],
 "metadata": {
  "kernelspec": {
   "display_name": "Python 3",
   "language": "python",
   "name": "python3"
  },
  "language_info": {
   "codemirror_mode": {
    "name": "ipython",
    "version": 3
   },
   "file_extension": ".py",
   "mimetype": "text/x-python",
   "name": "python",
   "nbconvert_exporter": "python",
   "pygments_lexer": "ipython3",
   "version": "3.7.1"
  }
 },
 "nbformat": 4,
 "nbformat_minor": 2
}
