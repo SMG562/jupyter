{
 "cells": [
  {
   "cell_type": "markdown",
   "metadata": {},
   "source": [
    "### range(6) and list [0,1,2,3,4,5]"
   ]
  },
  {
   "cell_type": "code",
   "execution_count": 34,
   "metadata": {
    "scrolled": true
   },
   "outputs": [
    {
     "name": "stdout",
     "output_type": "stream",
     "text": [
      "list_1 --------------------\n",
      "0\n",
      "1\n",
      "2\n",
      "3\n",
      "4\n",
      "5\n",
      "range(6) --------------------\n",
      "0\n",
      "1\n",
      "2\n",
      "3\n",
      "4\n",
      "5\n"
     ]
    }
   ],
   "source": [
    "# elements inside \n",
    "\n",
    "\n",
    "print('list_1','-'*20)\n",
    "\n",
    "list_1 = [0,1,2,3,4,5]\n",
    "for x in list_1:\n",
    "    print(x)\n",
    "    \n",
    "print('range(6)','-'*20)\n",
    "for x in range(6):\n",
    "    print(x)    \n",
    "    \n",
    "\n"
   ]
  },
  {
   "cell_type": "code",
   "execution_count": 26,
   "metadata": {},
   "outputs": [
    {
     "data": {
      "text/plain": [
       "list"
      ]
     },
     "execution_count": 26,
     "metadata": {},
     "output_type": "execute_result"
    }
   ],
   "source": [
    "\n",
    "\n",
    "type(list_1)   \n",
    "\n",
    "\n",
    "\n"
   ]
  },
  {
   "cell_type": "code",
   "execution_count": 25,
   "metadata": {},
   "outputs": [
    {
     "data": {
      "text/plain": [
       "range"
      ]
     },
     "execution_count": 25,
     "metadata": {},
     "output_type": "execute_result"
    }
   ],
   "source": [
    "\n",
    "type(range(6))   \n",
    "\n",
    "\n",
    "    \n",
    "    "
   ]
  },
  {
   "cell_type": "markdown",
   "metadata": {},
   "source": [
    "### function "
   ]
  },
  {
   "cell_type": "code",
   "execution_count": 29,
   "metadata": {},
   "outputs": [
    {
     "name": "stdout",
     "output_type": "stream",
     "text": [
      "Tobias, nice to meet you!\n",
      "Linus, nice to meet you!\n",
      "Sam, nice to meet you!\n"
     ]
    },
    {
     "data": {
      "text/plain": [
       "NoneType"
      ]
     },
     "execution_count": 29,
     "metadata": {},
     "output_type": "execute_result"
    }
   ],
   "source": [
    "# define function\n",
    "\n",
    "def good_name_printer(people_name):\n",
    "  print( people_name + ', nice to meet you!')\n",
    "\n",
    "\n",
    "# use function\n",
    "\n",
    "good_name_printer(\"Tobias\")\n",
    "good_name_printer(\"Linus\")\n",
    "\n"
   ]
  },
  {
   "cell_type": "markdown",
   "metadata": {},
   "source": [
    "### class "
   ]
  },
  {
   "cell_type": "code",
   "execution_count": 32,
   "metadata": {},
   "outputs": [
    {
     "name": "stdout",
     "output_type": "stream",
     "text": [
      "name: han liu\n",
      "birth yeart: 1990\n",
      "age: 29\n"
     ]
    }
   ],
   "source": [
    "import datetime\n",
    "now = datetime.datetime.now()\n",
    "\n",
    "\n",
    "\n",
    "# define class\n",
    "class Person:\n",
    "    # define property: name, age, etc ...\n",
    "    def __init__(self, name, birthyear):\n",
    "     # define two parameters, user gives two string, accept them and give them as the personal names of the objects.\n",
    "     self.name = name\n",
    "     self.birthyear = birthyear\n",
    "     self. age = now.year - birthyear\n",
    "\n",
    "    \n",
    "# use class to make people \n",
    "person_no1 = Person(\"han liu\", 1990)\n",
    "print(\"name:\", person_no1.name)\n",
    "print(\"birth yeart:\", person_no1.birthyear)\n",
    "print(\"age:\", person_no1.age)"
   ]
  },
  {
   "cell_type": "code",
   "execution_count": null,
   "metadata": {},
   "outputs": [],
   "source": []
  }
 ],
 "metadata": {
  "kernelspec": {
   "display_name": "Python 3",
   "language": "python",
   "name": "python3"
  },
  "language_info": {
   "codemirror_mode": {
    "name": "ipython",
    "version": 3
   },
   "file_extension": ".py",
   "mimetype": "text/x-python",
   "name": "python",
   "nbconvert_exporter": "python",
   "pygments_lexer": "ipython3",
   "version": "3.6.6"
  }
 },
 "nbformat": 4,
 "nbformat_minor": 2
}
