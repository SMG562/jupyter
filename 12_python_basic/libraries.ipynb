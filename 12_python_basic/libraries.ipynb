{
 "cells": [
  {
   "cell_type": "markdown",
   "metadata": {},
   "source": [
    "### LabelEncoder()"
   ]
  },
  {
   "cell_type": "code",
   "execution_count": 1,
   "metadata": {},
   "outputs": [
    {
     "data": {
      "text/plain": [
       "array([0, 0, 3, 2, 1])"
      ]
     },
     "execution_count": 1,
     "metadata": {},
     "output_type": "execute_result"
    }
   ],
   "source": [
    "# LabelEncoder\n",
    "# LabelEncoder 是对不连续的数字或者文本进行编号\n",
    "\n",
    "\n",
    "from sklearn.preprocessing import LabelEncoder\n",
    "le = LabelEncoder()\n",
    "le.fit([1,5,67,100])\n",
    "le.transform([1,1,100,67,5])"
   ]
  },
  {
   "cell_type": "markdown",
   "metadata": {},
   "source": [
    "### Lambda\n"
   ]
  },
  {
   "cell_type": "code",
   "execution_count": 2,
   "metadata": {},
   "outputs": [
    {
     "name": "stdout",
     "output_type": "stream",
     "text": [
      "8\n",
      "15\n"
     ]
    }
   ],
   "source": [
    "# Lambda\n",
    "\n",
    "# Lambdas are one line functions. \n",
    "\n",
    "# BluePrints:\n",
    "# lambda argument: manipulate(argument)\n",
    "\n",
    "add = lambda x, y: x + y\n",
    "\n",
    "print(add(3, 5))\n",
    "\n",
    "\n",
    "plus10 = lambda a : a + 10\n",
    "print(plus10(5))"
   ]
  },
  {
   "cell_type": "markdown",
   "metadata": {},
   "source": [
    "### .apply()"
   ]
  },
  {
   "cell_type": "code",
   "execution_count": 3,
   "metadata": {},
   "outputs": [],
   "source": [
    "# .apply() \n",
    "\n",
    "import pandas as pd\n",
    "\n",
    "d = {'col1': [1, 2], 'col2': [3, 4]}\n",
    "df = pd.DataFrame(data=d)\n",
    "\n",
    "\n",
    "plus10 = lambda a : a + 10  \n",
    "\n",
    "df1 = df[['col1', 'col2']].apply(plus10)\n",
    "\n"
   ]
  },
  {
   "cell_type": "markdown",
   "metadata": {},
   "source": [
    "### OneHotEncoder"
   ]
  },
  {
   "cell_type": "code",
   "execution_count": 5,
   "metadata": {},
   "outputs": [
    {
     "data": {
      "text/plain": [
       "array([[0., 1., 0., 0.],\n",
       "       [0., 0., 1., 0.],\n",
       "       [1., 0., 0., 0.],\n",
       "       [0., 0., 0., 1.]])"
      ]
     },
     "execution_count": 5,
     "metadata": {},
     "output_type": "execute_result"
    }
   ],
   "source": [
    "# OneHotEncoder\n",
    "# OneHotEncoder 用于将表示分类的数据\n",
    "# for dataframe containing multi class features, OneHotEncoder is needed. \n",
    "\n",
    "from sklearn.preprocessing import OneHotEncoder\n",
    "\n",
    "ohe = OneHotEncoder()\n",
    "\n",
    "ohe.fit([[1],[2],[3],[4]])\n",
    "\n",
    "ohe.transform([[2],[3],[1],[4]]).toarray()\n"
   ]
  },
  {
   "cell_type": "code",
   "execution_count": null,
   "metadata": {},
   "outputs": [],
   "source": []
  },
  {
   "cell_type": "markdown",
   "metadata": {},
   "source": [
    "### .join()"
   ]
  },
  {
   "cell_type": "code",
   "execution_count": null,
   "metadata": {},
   "outputs": [],
   "source": [
    "#  .join() funciton\n",
    "#  join list elements with a seperator\n",
    "\n",
    "list1 = ['1','2','3','4']  \n",
    "s = \"-\"\n",
    "string1 = s.join(list1)\n",
    "print('string1:',string1)\n",
    "\n",
    "\n",
    "\n",
    "list2 = ['g','e','e','k', 's'] \n",
    "s = \"\"\n",
    "string2 = s.join(list2)\n",
    "print('string2:',string2) \n"
   ]
  },
  {
   "cell_type": "markdown",
   "metadata": {},
   "source": [
    "### print empty line"
   ]
  },
  {
   "cell_type": "code",
   "execution_count": null,
   "metadata": {},
   "outputs": [],
   "source": [
    "print(\"1\")\n",
    "print(\"\\n\")\n",
    "print(\"2\")\n",
    "\n",
    "print(\"\")\n",
    "print(\"3\")\n",
    "\n",
    "\n"
   ]
  },
  {
   "cell_type": "markdown",
   "metadata": {},
   "source": [
    "### range(6) and list [0,1,2,3,4,5]\n",
    "\n",
    "\n",
    "\n",
    "\n",
    "\n",
    "\n",
    "\n",
    "\n"
   ]
  },
  {
   "cell_type": "code",
   "execution_count": null,
   "metadata": {},
   "outputs": [],
   "source": [
    "# elements inside \n",
    "\n",
    "\n",
    "print('list_1','-'*20)\n",
    "\n",
    "list_1 = [0,1,2,3,4,5]\n",
    "for x in list_1:\n",
    "    print(x)\n",
    "    \n",
    "print('range(6)','-'*20)\n",
    "for x in range(6):\n",
    "    print(x)    \n",
    "    "
   ]
  },
  {
   "cell_type": "code",
   "execution_count": null,
   "metadata": {},
   "outputs": [],
   "source": [
    "\n",
    "type(list_1)   \n",
    "\n"
   ]
  },
  {
   "cell_type": "code",
   "execution_count": null,
   "metadata": {},
   "outputs": [],
   "source": [
    "\n",
    "type(range(6))   \n",
    "\n",
    "\n",
    "    \n",
    "    \n",
    "\n",
    "\n",
    "\n",
    "\n"
   ]
  },
  {
   "cell_type": "markdown",
   "metadata": {},
   "source": [
    "### function \n",
    "\n"
   ]
  },
  {
   "cell_type": "code",
   "execution_count": null,
   "metadata": {},
   "outputs": [],
   "source": [
    "\n",
    "# define function\n",
    "\n",
    "def good_name_printer(people_name):\n",
    "  print( people_name + ', nice to meet you!')\n",
    "\n",
    "\n",
    "# use function\n",
    "\n",
    "good_name_printer(\"Tobias\")\n",
    "good_name_printer(\"Linus\")\n"
   ]
  },
  {
   "cell_type": "markdown",
   "metadata": {},
   "source": [
    "### class "
   ]
  },
  {
   "cell_type": "code",
   "execution_count": null,
   "metadata": {},
   "outputs": [],
   "source": [
    "\n",
    "import datetime\n",
    "now = datetime.datetime.now()\n",
    "\n",
    "\n",
    "\n",
    "# define class\n",
    "class Person:\n",
    "    # define property: name, age, etc ...\n",
    "    def __init__(self, name, birthyear):\n",
    "     # define two parameters, user gives two string, accept them and give them as the personal names of the objects.\n",
    "     self.name = name\n",
    "     self.birthyear = birthyear\n",
    "     self. age = now.year - birthyear\n",
    "\n",
    "    \n",
    "# use class to make people \n",
    "person_no1 = Person(\"han liu\", 1990)\n",
    "print(\"name:\", person_no1.name)\n",
    "print(\"birth yeart:\", person_no1.birthyear)\n",
    "print(\"age:\", person_no1.age)"
   ]
  }
 ],
 "metadata": {
  "kernelspec": {
   "display_name": "Python 3",
   "language": "python",
   "name": "python3"
  },
  "language_info": {
   "codemirror_mode": {
    "name": "ipython",
    "version": 3
   },
   "file_extension": ".py",
   "mimetype": "text/x-python",
   "name": "python",
   "nbconvert_exporter": "python",
   "pygments_lexer": "ipython3",
   "version": "3.6.6"
  }
 },
 "nbformat": 4,
 "nbformat_minor": 2
}
