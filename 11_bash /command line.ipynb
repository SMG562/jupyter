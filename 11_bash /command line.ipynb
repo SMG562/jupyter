{
 "cells": [
  {
   "cell_type": "markdown",
   "metadata": {},
   "source": [
    "### reference \n",
    "\n",
    "Executing terminal commands in Jupyter notebook - Stack Overflow\n",
    "https://stackoverflow.com/questions/38694081/executing-terminal-commands-in-jupyter-notebook\n"
   ]
  },
  {
   "cell_type": "code",
   "execution_count": 2,
   "metadata": {},
   "outputs": [
    {
     "name": "stdout",
     "output_type": "stream",
     "text": [
      "/home/hanl9/Documents/github/day-day-interest/jupyter/bash \r\n"
     ]
    }
   ],
   "source": [
    "! pwd\n"
   ]
  },
  {
   "cell_type": "markdown",
   "metadata": {},
   "source": [
    "### alias"
   ]
  },
  {
   "cell_type": "code",
   "execution_count": null,
   "metadata": {},
   "outputs": [
    {
     "name": "stdout",
     "output_type": "stream",
     "text": [
      "/home/hanl9/Documents/github/day-day-interest/jupyter/bash \n",
      "\u001b[2A\u001b[19A\u001b[m\u001b[mxit\u001b[6C\u001b[7m^R\u001b[m Read File \u001b[7m^\\\u001b[m Replace   \u001b[7m^U\u001b[m Uncut Text\u001b[7m^T\u001b[m To Spell  \u001b[7m^_\u001b[m Go To Line             .bashrc                                  \u001b[1;79H\u001b[m"
     ]
    }
   ],
   "source": [
    "# enter home folder\n",
    "! cd ~\n",
    "! pwd\n",
    "\n",
    "# enter the .bashrc file \n",
    "\n",
    "# ! nano .bashrc\n"
   ]
  },
  {
   "cell_type": "code",
   "execution_count": null,
   "metadata": {},
   "outputs": [],
   "source": [
    "! pwd"
   ]
  }
 ],
 "metadata": {
  "kernelspec": {
   "display_name": "Python 3",
   "language": "python",
   "name": "python3"
  }
 },
 "nbformat": 4,
 "nbformat_minor": 2
}
