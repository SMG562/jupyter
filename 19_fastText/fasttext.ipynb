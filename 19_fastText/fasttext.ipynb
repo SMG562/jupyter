{
 "cells": [
  {
   "cell_type": "markdown",
   "metadata": {},
   "source": [
    "# fastText tutorial \n"
   ]
  },
  {
   "cell_type": "markdown",
   "metadata": {},
   "source": [
    "### reference\n",
    "\n",
    "Text classification · fastText\n",
    "https://fasttext.cc/docs/en/supervised-tutorial.html"
   ]
  },
  {
   "cell_type": "code",
   "execution_count": 1,
   "metadata": {
    "scrolled": false
   },
   "outputs": [
    {
     "name": "stdout",
     "output_type": "stream",
     "text": [
      "usage: fasttext <command> <args>\r\n",
      "\r\n",
      "The commands supported by fasttext are:\r\n",
      "\r\n",
      "  supervised              train a supervised classifier\r\n",
      "  quantize                quantize a model to reduce the memory usage\r\n",
      "  test                    evaluate a supervised classifier\r\n",
      "  test-label              print labels with precision and recall scores\r\n",
      "  predict                 predict most likely labels\r\n",
      "  predict-prob            predict most likely labels with probabilities\r\n",
      "  skipgram                train a skipgram model\r\n",
      "  cbow                    train a cbow model\r\n",
      "  print-word-vectors      print word vectors given a trained model\r\n",
      "  print-sentence-vectors  print sentence vectors given a trained model\r\n",
      "  print-ngrams            print ngrams given a trained model and word\r\n",
      "  nn                      query for nearest neighbors\r\n",
      "  analogies               query for analogies\r\n",
      "  dump                    dump arguments,dictionary,input/output vectors\r\n",
      "\r\n"
     ]
    }
   ],
   "source": [
    "! ./fastText/fasttext"
   ]
  },
  {
   "cell_type": "markdown",
   "metadata": {},
   "source": [
    "# title.txt"
   ]
  },
  {
   "cell_type": "code",
   "execution_count": 2,
   "metadata": {},
   "outputs": [
    {
     "name": "stdout",
     "output_type": "stream",
     "text": [
      "  27471  276010 2343839 title.txt\r\n"
     ]
    }
   ],
   "source": [
    "! wc title.txt\n",
    "\n"
   ]
  },
  {
   "cell_type": "code",
   "execution_count": 3,
   "metadata": {},
   "outputs": [],
   "source": [
    "! head -n 21000 title.txt > title.train"
   ]
  },
  {
   "cell_type": "code",
   "execution_count": 4,
   "metadata": {},
   "outputs": [],
   "source": [
    "! tail -n 6471 title.txt > title.valid"
   ]
  },
  {
   "cell_type": "code",
   "execution_count": 5,
   "metadata": {},
   "outputs": [
    {
     "name": "stdout",
     "output_type": "stream",
     "text": [
      "Read 0M words\n",
      "Number of words:  29687\n",
      "Number of labels: 6\n",
      "Progress: 100.0% words/sec/thread:  945795 lr:  0.000000 loss:  0.860917 ETA:   0h 0m\n"
     ]
    }
   ],
   "source": [
    "! ./fastText/fasttext supervised -input title.train -output model_title"
   ]
  },
  {
   "cell_type": "code",
   "execution_count": 6,
   "metadata": {},
   "outputs": [
    {
     "name": "stdout",
     "output_type": "stream",
     "text": [
      "N\t2579\r\n",
      "P@1\t0.335\r\n",
      "R@1\t0.335\r\n"
     ]
    }
   ],
   "source": [
    "! ./fastText/fasttext test model_title.bin title.valid "
   ]
  },
  {
   "cell_type": "code",
   "execution_count": 7,
   "metadata": {},
   "outputs": [
    {
     "name": "stdout",
     "output_type": "stream",
     "text": [
      "N\t2579\r\n",
      "P@5\t0.198\r\n",
      "R@5\t0.99\r\n"
     ]
    }
   ],
   "source": [
    "! ./fastText/fasttext test model_title.bin title.valid   5"
   ]
  },
  {
   "cell_type": "markdown",
   "metadata": {},
   "source": [
    "# abstract.txt"
   ]
  },
  {
   "cell_type": "code",
   "execution_count": 8,
   "metadata": {},
   "outputs": [
    {
     "name": "stdout",
     "output_type": "stream",
     "text": [
      "   27471  4479669 30326758 abstract.txt\r\n"
     ]
    }
   ],
   "source": [
    "! wc abstract.txt\n"
   ]
  },
  {
   "cell_type": "code",
   "execution_count": 9,
   "metadata": {},
   "outputs": [],
   "source": [
    "! head -n 21000 abstract.txt > abstract.train"
   ]
  },
  {
   "cell_type": "code",
   "execution_count": 10,
   "metadata": {},
   "outputs": [],
   "source": [
    "! tail -n 6471 abstract.txt > abstract.valid"
   ]
  },
  {
   "cell_type": "code",
   "execution_count": 11,
   "metadata": {},
   "outputs": [
    {
     "name": "stdout",
     "output_type": "stream",
     "text": [
      "Read 3M words\n",
      "Number of words:  140032\n",
      "Number of labels: 6\n",
      "Progress: 100.0% words/sec/thread: 2021327 lr:  0.000000 loss:  1.210854 ETA:   0h 0m\n"
     ]
    }
   ],
   "source": [
    "! ./fastText/fasttext supervised -input abstract.train -output model_abstract"
   ]
  },
  {
   "cell_type": "code",
   "execution_count": 12,
   "metadata": {},
   "outputs": [
    {
     "name": "stdout",
     "output_type": "stream",
     "text": [
      "N\t2579\r\n",
      "P@1\t0.0969\r\n",
      "R@1\t0.0969\r\n"
     ]
    }
   ],
   "source": [
    "! ./fastText/fasttext test model_abstract.bin abstract.valid "
   ]
  },
  {
   "cell_type": "code",
   "execution_count": 13,
   "metadata": {},
   "outputs": [
    {
     "name": "stdout",
     "output_type": "stream",
     "text": [
      "N\t2579\r\n",
      "P@5\t0.142\r\n",
      "R@5\t0.71\r\n"
     ]
    }
   ],
   "source": [
    "! ./fastText/fasttext test model_abstract.bin abstract.valid 5"
   ]
  },
  {
   "cell_type": "markdown",
   "metadata": {},
   "source": [
    "# controlled vocabulary"
   ]
  },
  {
   "cell_type": "code",
   "execution_count": 14,
   "metadata": {},
   "outputs": [
    {
     "name": "stdout",
     "output_type": "stream",
     "text": [
      "  23819  329974 5973924 controlled_vocabulary_none_empty.txt\r\n"
     ]
    }
   ],
   "source": [
    "! wc controlled_vocabulary_none_empty.txt"
   ]
  },
  {
   "cell_type": "code",
   "execution_count": 15,
   "metadata": {},
   "outputs": [],
   "source": [
    "! head -n 18000 controlled_vocabulary_none_empty.txt > controlled_vocabulary.train"
   ]
  },
  {
   "cell_type": "code",
   "execution_count": 16,
   "metadata": {},
   "outputs": [],
   "source": [
    "! tail -n 5819 controlled_vocabulary_none_empty.txt > controlled_vocabulary.valid"
   ]
  },
  {
   "cell_type": "code",
   "execution_count": 17,
   "metadata": {},
   "outputs": [
    {
     "name": "stdout",
     "output_type": "stream",
     "text": [
      "Read 0M words\n",
      "Number of words:  59570\n",
      "Number of labels: 5\n",
      "Progress: 100.0% words/sec/thread: 1119217 lr:  0.000000 loss:  0.236060 ETA:   0h 0m\n"
     ]
    }
   ],
   "source": [
    "! ./fastText/fasttext supervised -input controlled_vocabulary.train -output model_controlled_vocabulary"
   ]
  },
  {
   "cell_type": "code",
   "execution_count": 18,
   "metadata": {},
   "outputs": [
    {
     "name": "stdout",
     "output_type": "stream",
     "text": [
      "N\t906\r\n",
      "P@1\t0.796\r\n",
      "R@1\t0.796\r\n"
     ]
    }
   ],
   "source": [
    "! ./fastText/fasttext test model_controlled_vocabulary.bin controlled_vocabulary.valid "
   ]
  },
  {
   "cell_type": "code",
   "execution_count": 19,
   "metadata": {},
   "outputs": [
    {
     "name": "stdout",
     "output_type": "stream",
     "text": [
      "N\t906\r\n",
      "P@5\t0.2\r\n",
      "R@5\t1\r\n"
     ]
    }
   ],
   "source": [
    "! ./fastText/fasttext test model_controlled_vocabulary.bin controlled_vocabulary.valid 5"
   ]
  },
  {
   "cell_type": "code",
   "execution_count": null,
   "metadata": {},
   "outputs": [],
   "source": []
  }
 ],
 "metadata": {
  "kernelspec": {
   "display_name": "Python 3",
   "language": "python",
   "name": "python3"
  },
  "language_info": {
   "codemirror_mode": {
    "name": "ipython",
    "version": 3
   },
   "file_extension": ".py",
   "mimetype": "text/x-python",
   "name": "python",
   "nbconvert_exporter": "python",
   "pygments_lexer": "ipython3",
   "version": "3.7.1"
  }
 },
 "nbformat": 4,
 "nbformat_minor": 2
}
