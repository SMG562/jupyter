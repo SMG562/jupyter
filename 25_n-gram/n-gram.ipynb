{
 "cells": [
  {
   "cell_type": "markdown",
   "metadata": {},
   "source": [
    "Generating N-grams from Sentences Python | Albert Au Yeung\n",
    "http://www.albertauyeung.com/post/generating-ngrams-python/"
   ]
  },
  {
   "cell_type": "code",
   "execution_count": 1,
   "metadata": {},
   "outputs": [],
   "source": [
    "# import regular expression package `re`\n",
    "import re "
   ]
  },
  {
   "cell_type": "code",
   "execution_count": 2,
   "metadata": {},
   "outputs": [
    {
     "name": "stdout",
     "output_type": "stream",
     "text": [
      "string2:bd\n",
      "type of string1:abcdefg\n"
     ]
    },
    {
     "data": {
      "text/plain": [
       "str"
      ]
     },
     "execution_count": 2,
     "metadata": {},
     "output_type": "execute_result"
    }
   ],
   "source": [
    "# example of slice\n",
    "string1 = 'abcdefg'\n",
    "string2 = string1[slice(1,5,2)]\n",
    "print(\"string2:\" + string2)\n",
    "print(\"type of string1:\" + string1)\n",
    "type(string1)\n",
    "# print(\"type of string2:\" + type(string1))\n",
    "\n",
    "\n"
   ]
  },
  {
   "cell_type": "code",
   "execution_count": 3,
   "metadata": {},
   "outputs": [
    {
     "name": "stdout",
     "output_type": "stream",
     "text": [
      "string2:aceg\n",
      "type of string2: <class 'str'>\n"
     ]
    }
   ],
   "source": [
    "# example2\n",
    "string1 = 'abcdefg'\n",
    "string2 = string1[::2]\n",
    "print(\"string2:\" + string2)\n",
    "print(\"type of string2:\" , type(string2))\n",
    "\n"
   ]
  },
  {
   "cell_type": "code",
   "execution_count": 4,
   "metadata": {},
   "outputs": [
    {
     "name": "stdout",
     "output_type": "stream",
     "text": [
      "string2: gfedcba\n",
      "type of string2: <class 'str'>\n"
     ]
    }
   ],
   "source": [
    "# example3\n",
    "string1 = 'abcdefg'\n",
    "string2 = string1[::-1]\n",
    "print(\"string2:\", string2)\n",
    "print(\"type of string2:\", type(string2) )"
   ]
  },
  {
   "cell_type": "code",
   "execution_count": 5,
   "metadata": {},
   "outputs": [
    {
     "name": "stdout",
     "output_type": "stream",
     "text": [
      "string2: abc\n",
      "type of string2: <class 'str'>\n"
     ]
    }
   ],
   "source": [
    "# example3\n",
    "string1 = 'abcdefg'\n",
    "string2 = string1[slice(3)]\n",
    "print(\"string2:\", string2)\n",
    "print(\"type of string2:\", type(string2) )"
   ]
  },
  {
   "cell_type": "code",
   "execution_count": 6,
   "metadata": {},
   "outputs": [
    {
     "name": "stdout",
     "output_type": "stream",
     "text": [
      "type of range1: <class 'range'>\n",
      "0\n",
      "1\n",
      "2\n",
      "3\n",
      "4\n",
      "5\n",
      "[0, 1, 2, 3, 4, 5]\n",
      "type of list1: <class 'list'>\n"
     ]
    }
   ],
   "source": [
    "\n",
    "# range to list\n",
    "\n",
    "range1 = range(6)\n",
    "range1\n",
    "\n",
    "list1 =[]\n",
    "\n",
    "print(\"type of range1:\", type(range1))\n",
    "\n",
    "\n",
    "\n",
    "for i in range1:\n",
    "    \n",
    "    print(i)\n",
    "    list1.append(i)\n",
    "\n",
    "print(list1)\n",
    "\n",
    "print(\"type of list1:\",type(list1))\n"
   ]
  },
  {
   "cell_type": "code",
   "execution_count": 7,
   "metadata": {},
   "outputs": [
    {
     "name": "stdout",
     "output_type": "stream",
     "text": [
      "range1: range(0, 6)\n",
      "0\n",
      "1\n",
      "2\n",
      "3\n",
      "4\n",
      "5\n",
      "-------------\n",
      "type of range1: <class 'range'>\n",
      "0\n",
      "2\n",
      "4\n",
      "type of range2: <class 'range'>\n"
     ]
    }
   ],
   "source": [
    "# slice of range \n",
    "\n",
    "range1 = range(6)\n",
    "range1\n",
    "print(\"range1:\", range1)\n",
    "\n",
    "for i in range1:\n",
    "    print(i)\n",
    "\n",
    "print(\"-------------\")    \n",
    "\n",
    "print(\"type of range1:\", type(range1))\n",
    "\n",
    "range2 = range1[::2]\n",
    "\n",
    "for i in range2:\n",
    "    print(i)\n",
    "    \n",
    "print(\"type of range2:\", type(range2))\n",
    "    \n",
    "\n"
   ]
  },
  {
   "cell_type": "code",
   "execution_count": 8,
   "metadata": {},
   "outputs": [
    {
     "name": "stdout",
     "output_type": "stream",
     "text": [
      "ab\n",
      "aceg\n",
      "ace\n",
      "cdefg\n"
     ]
    }
   ],
   "source": [
    "\n",
    "# two way of slice \n",
    "\n",
    "\n",
    "# syntax of slice\n",
    "# x[startAt:endBefore:skip]\n",
    "\n",
    "\n",
    "\n",
    "\n",
    "string1 = \"abcdefg\"\n",
    "string2 = string1[slice(2)]\n",
    "print(string2)\n",
    "\n",
    "string3 = string1[::2]\n",
    "print(string3)\n",
    "\n",
    "string4 = string1[0:6:2]\n",
    "print(string4)\n",
    "\n",
    "\n",
    "string5 = string1[2:]\n",
    "print(string5)\n"
   ]
  },
  {
   "cell_type": "code",
   "execution_count": 9,
   "metadata": {
    "scrolled": true
   },
   "outputs": [
    {
     "name": "stdout",
     "output_type": "stream",
     "text": [
      "list1: \n",
      " [0, 2, 4, 6, 8, 10, 12, 14, 16, 18, 20, 22, 24, 26, 28, 30, 32, 34, 36, 38, 40, 42, 44, 46, 48, 50, 52, 54, 56, 58, 60, 62, 64, 66, 68, 70, 72, 74, 76, 78, 80, 82, 84, 86, 88, 90, 92, 94, 96, 98]\n",
      "list2: \n",
      " [0, 1, 2, 3, 4, 5, 6, 7, 8, 9, 10, 11, 12, 13, 14, 15, 16, 17, 18, 19, 20, 21, 22, 23, 24, 25, 26, 27, 28, 29, 30, 31, 32, 33, 34, 35, 36, 37, 38, 39, 40, 41, 42, 43, 44, 45, 46, 47, 48, 49, 50, 51, 52, 53, 54, 55, 56, 57, 58, 59, 60, 61, 62, 63, 64, 65, 66, 67, 68, 69, 70, 71, 72, 73, 74, 75, 76, 77, 78, 79, 80, 81, 82, 83, 84, 85, 86, 87, 88, 89, 90, 91, 92, 93, 94, 95, 96, 97, 98, 99]\n",
      "list3: \n",
      " [1, 3, 5, 7, 9, 11, 13, 15, 17, 19, 21, 23, 25, 27, 29, 31, 33, 35, 37, 39, 41, 43, 45, 47, 49, 51, 53, 55, 57, 59, 61, 63, 65, 67, 69, 71, 73, 75, 77, 79, 81, 83, 85, 87, 89, 91, 93, 95, 97, 99]\n",
      "list4: \n",
      " [99, 98, 97, 96, 95, 94, 93, 92, 91, 90, 89, 88, 87, 86, 85, 84, 83, 82, 81, 80, 79, 78, 77, 76, 75, 74, 73, 72, 71, 70, 69, 68, 67, 66, 65, 64, 63, 62, 61, 60, 59, 58, 57, 56, 55, 54, 53, 52, 51, 50, 49, 48, 47, 46, 45, 44, 43, 42, 41, 40, 39, 38, 37, 36, 35, 34, 33, 32, 31, 30, 29, 28, 27, 26, 25, 24, 23, 22, 21, 20, 19, 18, 17, 16, 15, 14, 13, 12, 11, 10, 9, 8, 7, 6, 5, 4, 3, 2, 1, 0]\n",
      "list4: \n",
      " [50, 49, 48, 47, 46, 45, 44, 43, 42, 41, 40, 39, 38, 37, 36, 35, 34, 33, 32, 31, 30, 29, 28, 27, 26, 25, 24, 23, 22, 21, 20, 19, 18, 17, 16, 15, 14, 13, 12, 11, 10, 9, 8, 7, 6, 5, 4, 3, 2, 1, 0]\n"
     ]
    }
   ],
   "source": [
    "# another example \n",
    "x = range(100)\n",
    "x[::2]\n",
    "list1 = []\n",
    "for i in x[::2]:\n",
    "    list1.append(i)\n",
    "\n",
    "print(\"list1:\", '\\n', list1)\n",
    "\n",
    "\n",
    "list2 = []\n",
    "for i in x:\n",
    "    list2.append(i)\n",
    "    \n",
    "print(\"list2:\", '\\n', list2)\n",
    "    \n",
    "list3 = []\n",
    "for i in x[1::2]:\n",
    "    list3.append(i)\n",
    "    \n",
    "print(\"list3:\", '\\n', list3)\n",
    "\n",
    "\n",
    "\n",
    "\n",
    "# a negative step to go backwards\n",
    "\n",
    "\n",
    "list4 = []\n",
    "for i in x[::-1]:\n",
    "    list4.append(i)\n",
    "    \n",
    "print(\"list4:\", '\\n', list4)\n",
    "\n",
    "\n",
    "list5 = []\n",
    "for i in x[-50::-1]:\n",
    "    list5.append(i)\n",
    "    \n",
    "print(\"list4:\", '\\n', list5)\n",
    "\n"
   ]
  },
  {
   "cell_type": "code",
   "execution_count": null,
   "metadata": {},
   "outputs": [],
   "source": []
  },
  {
   "cell_type": "code",
   "execution_count": 10,
   "metadata": {},
   "outputs": [],
   "source": [
    "# create a sentence instance \n",
    "\n",
    "sentence = \" Your Hand full of Hours, you came to me – and I said: ‘Your Hair is not brown.’ So you lifted it, lightly, onto the Balance of Grief, it was Heavier than I… \"\n"
   ]
  },
  {
   "cell_type": "code",
   "execution_count": 11,
   "metadata": {},
   "outputs": [
    {
     "data": {
      "text/plain": [
       "' your hand full of hours, you came to me – and i said: ‘your hair is not brown.’ so you lifted it, lightly, onto the balance of grief, it was heavier than i… '"
      ]
     },
     "execution_count": 11,
     "metadata": {},
     "output_type": "execute_result"
    }
   ],
   "source": [
    "sentence = sentence.lower()\n",
    "sentence\n"
   ]
  },
  {
   "cell_type": "code",
   "execution_count": 12,
   "metadata": {},
   "outputs": [
    {
     "data": {
      "text/plain": [
       "' your hand full of hours  you came to me   and i said   your hair is not brown   so you lifted it  lightly  onto the balance of grief  it was heavier than i  '"
      ]
     },
     "execution_count": 12,
     "metadata": {},
     "output_type": "execute_result"
    }
   ],
   "source": [
    "\n",
    "# Replace all the none alpha-number characters with space\n",
    "sentence = re.sub(r'[^a-zA-Z0-9\\s]', ' ', sentence)\n",
    "\n",
    "sentence"
   ]
  },
  {
   "cell_type": "code",
   "execution_count": 13,
   "metadata": {
    "scrolled": true
   },
   "outputs": [
    {
     "data": {
      "text/plain": [
       "['',\n",
       " 'your',\n",
       " 'hand',\n",
       " 'full',\n",
       " 'of',\n",
       " 'hours',\n",
       " '',\n",
       " 'you',\n",
       " 'came',\n",
       " 'to',\n",
       " 'me',\n",
       " '',\n",
       " '',\n",
       " 'and',\n",
       " 'i',\n",
       " 'said',\n",
       " '',\n",
       " '',\n",
       " 'your',\n",
       " 'hair',\n",
       " 'is',\n",
       " 'not',\n",
       " 'brown',\n",
       " '',\n",
       " '',\n",
       " 'so',\n",
       " 'you',\n",
       " 'lifted',\n",
       " 'it',\n",
       " '',\n",
       " 'lightly',\n",
       " '',\n",
       " 'onto',\n",
       " 'the',\n",
       " 'balance',\n",
       " 'of',\n",
       " 'grief',\n",
       " '',\n",
       " 'it',\n",
       " 'was',\n",
       " 'heavier',\n",
       " 'than',\n",
       " 'i',\n",
       " '',\n",
       " '']"
      ]
     },
     "execution_count": 13,
     "metadata": {},
     "output_type": "execute_result"
    }
   ],
   "source": [
    "# breake sentence into tokens\\\n",
    "# this stpe can be removed, just for explanation \n",
    "\n",
    "tokens_with_space = [token for token in sentence.split(\" \")]\n",
    "tokens_with_space\n"
   ]
  },
  {
   "cell_type": "code",
   "execution_count": 14,
   "metadata": {},
   "outputs": [
    {
     "data": {
      "text/plain": [
       "['your',\n",
       " 'hand',\n",
       " 'full',\n",
       " 'of',\n",
       " 'hours',\n",
       " 'you',\n",
       " 'came',\n",
       " 'to',\n",
       " 'me',\n",
       " 'and',\n",
       " 'i',\n",
       " 'said',\n",
       " 'your',\n",
       " 'hair',\n",
       " 'is',\n",
       " 'not',\n",
       " 'brown',\n",
       " 'so',\n",
       " 'you',\n",
       " 'lifted',\n",
       " 'it',\n",
       " 'lightly',\n",
       " 'onto',\n",
       " 'the',\n",
       " 'balance',\n",
       " 'of',\n",
       " 'grief',\n",
       " 'it',\n",
       " 'was',\n",
       " 'heavier',\n",
       " 'than',\n",
       " 'i']"
      ]
     },
     "execution_count": 14,
     "metadata": {},
     "output_type": "execute_result"
    }
   ],
   "source": [
    "# breake sentence into tokens, remove empty tokens\n",
    "tokens = [token for token in sentence.split(\" \") if token !=\"\"]\n",
    "tokens \n"
   ]
  },
  {
   "cell_type": "code",
   "execution_count": 15,
   "metadata": {},
   "outputs": [
    {
     "data": {
      "text/plain": [
       "list"
      ]
     },
     "execution_count": 15,
     "metadata": {},
     "output_type": "execute_result"
    }
   ],
   "source": [
    "type(tokens)"
   ]
  },
  {
   "cell_type": "code",
   "execution_count": 16,
   "metadata": {},
   "outputs": [
    {
     "data": {
      "text/plain": [
       "['of',\n",
       " 'hours',\n",
       " 'you',\n",
       " 'came',\n",
       " 'to',\n",
       " 'me',\n",
       " 'and',\n",
       " 'i',\n",
       " 'said',\n",
       " 'your',\n",
       " 'hair',\n",
       " 'is',\n",
       " 'not',\n",
       " 'brown',\n",
       " 'so',\n",
       " 'you',\n",
       " 'lifted',\n",
       " 'it',\n",
       " 'lightly',\n",
       " 'onto',\n",
       " 'the',\n",
       " 'balance',\n",
       " 'of',\n",
       " 'grief',\n",
       " 'it',\n",
       " 'was',\n",
       " 'heavier',\n",
       " 'than',\n",
       " 'i']"
      ]
     },
     "execution_count": 16,
     "metadata": {},
     "output_type": "execute_result"
    }
   ],
   "source": [
    "tokens[3:]"
   ]
  },
  {
   "cell_type": "code",
   "execution_count": null,
   "metadata": {},
   "outputs": [],
   "source": []
  },
  {
   "cell_type": "code",
   "execution_count": 17,
   "metadata": {},
   "outputs": [
    {
     "name": "stdout",
     "output_type": "stream",
     "text": [
      "[]\n",
      "['your']\n",
      "['your', 'hand']\n",
      "['your', 'hand', 'full']\n",
      "['your', 'hand', 'full', 'of']\n"
     ]
    }
   ],
   "source": [
    "for i in range(5):\n",
    "    print(tokens[:i])"
   ]
  },
  {
   "cell_type": "markdown",
   "metadata": {},
   "source": [
    "### zip() function"
   ]
  },
  {
   "cell_type": "code",
   "execution_count": 18,
   "metadata": {},
   "outputs": [
    {
     "name": "stdout",
     "output_type": "stream",
     "text": [
      "{('John', 'Jenny'), ('Mike', 'Monica'), ('Charles', 'Christy')}\n"
     ]
    }
   ],
   "source": [
    "# zip() function\n",
    "# map the similar index of multiple containers\n",
    "\n",
    "a = (\"John\", \"Charles\", \"Mike\")\n",
    "b = (\"Jenny\", \"Christy\", \"Monica\")\n",
    "\n",
    "x = zip(a, b)\n",
    "x1 = set(x)\n",
    "print(x1)"
   ]
  },
  {
   "cell_type": "code",
   "execution_count": 19,
   "metadata": {},
   "outputs": [
    {
     "name": "stdout",
     "output_type": "stream",
     "text": [
      "[('Manjeet', 4, 40), ('Nikhil', 1, 50), ('Shambhavi', 3, 60), ('Astha', 2, 70)]\n"
     ]
    }
   ],
   "source": [
    "# 2. zip()\n",
    "\n",
    "name = [ \"Manjeet\", \"Nikhil\", \"Shambhavi\", \"Astha\" ] \n",
    "roll_no = [ 4, 1, 3, 2 ] \n",
    "marks = [ 40, 50, 60, 70 ] \n",
    "  \n",
    "# using zip() to map values \n",
    "mapped = zip(name, roll_no, marks) \n",
    "  \n",
    "# converting values to print as list \n",
    "mapped = list(mapped) \n",
    "\n",
    "print(mapped)"
   ]
  },
  {
   "cell_type": "code",
   "execution_count": 20,
   "metadata": {},
   "outputs": [
    {
     "name": "stdout",
     "output_type": "stream",
     "text": [
      "('Manjeet', 'Nikhil', 'Shambhavi', 'Astha')\n",
      "(4, 1, 3, 2)\n",
      "(40, 50, 60, 70)\n"
     ]
    }
   ],
   "source": [
    "# unzip()\n",
    "# 2. zip()\n",
    "\n",
    "name = [ \"Manjeet\", \"Nikhil\", \"Shambhavi\", \"Astha\" ] \n",
    "roll_no = [ 4, 1, 3, 2 ] \n",
    "marks = [ 40, 50, 60, 70 ] \n",
    "  \n",
    "# using zip() to map values \n",
    "mapped = zip(name, roll_no, marks) \n",
    "  \n",
    "# converting values to print as list \n",
    "mapped = list(mapped) \n",
    "\n",
    "name1, roll_no1, marks1 = zip(*mapped)\n",
    "\n",
    "print(name1)\n",
    "\n",
    "print(roll_no1)\n",
    "\n",
    "print(marks1)\n",
    "\n",
    "\n"
   ]
  },
  {
   "cell_type": "code",
   "execution_count": 21,
   "metadata": {},
   "outputs": [
    {
     "data": {
      "text/plain": [
       "<zip at 0x7f5bb578d348>"
      ]
     },
     "execution_count": 21,
     "metadata": {},
     "output_type": "execute_result"
    }
   ],
   "source": [
    "# generate n-grams\n",
    "\n",
    "# use the zip function to \n",
    "\n",
    "ngram = zip(*[tokens[i:] for i in range(5)])\n",
    "\n",
    "ngram"
   ]
  },
  {
   "cell_type": "code",
   "execution_count": 22,
   "metadata": {},
   "outputs": [
    {
     "data": {
      "text/plain": [
       "zip"
      ]
     },
     "execution_count": 22,
     "metadata": {},
     "output_type": "execute_result"
    }
   ],
   "source": [
    "type(ngram)"
   ]
  },
  {
   "cell_type": "code",
   "execution_count": 23,
   "metadata": {},
   "outputs": [
    {
     "ename": "SyntaxError",
     "evalue": "invalid syntax (<ipython-input-23-ad9b82d31dd0>, line 1)",
     "output_type": "error",
     "traceback": [
      "\u001b[0;36m  File \u001b[0;32m\"<ipython-input-23-ad9b82d31dd0>\"\u001b[0;36m, line \u001b[0;32m1\u001b[0m\n\u001b[0;31m    n_gram  = \" \".join(ngram) for ngram in ngrams\u001b[0m\n\u001b[0m                                ^\u001b[0m\n\u001b[0;31mSyntaxError\u001b[0m\u001b[0;31m:\u001b[0m invalid syntax\n"
     ]
    }
   ],
   "source": [
    "n_gram  = \" \".join(ngram) for ngram in ngrams\n",
    "ngram\n"
   ]
  },
  {
   "cell_type": "code",
   "execution_count": null,
   "metadata": {},
   "outputs": [],
   "source": []
  },
  {
   "cell_type": "code",
   "execution_count": null,
   "metadata": {},
   "outputs": [],
   "source": []
  },
  {
   "cell_type": "code",
   "execution_count": null,
   "metadata": {},
   "outputs": [],
   "source": []
  },
  {
   "cell_type": "code",
   "execution_count": null,
   "metadata": {},
   "outputs": [],
   "source": []
  },
  {
   "cell_type": "code",
   "execution_count": null,
   "metadata": {},
   "outputs": [],
   "source": []
  },
  {
   "cell_type": "code",
   "execution_count": null,
   "metadata": {},
   "outputs": [],
   "source": []
  },
  {
   "cell_type": "code",
   "execution_count": null,
   "metadata": {},
   "outputs": [],
   "source": []
  },
  {
   "cell_type": "code",
   "execution_count": null,
   "metadata": {},
   "outputs": [],
   "source": []
  },
  {
   "cell_type": "code",
   "execution_count": null,
   "metadata": {},
   "outputs": [],
   "source": []
  }
 ],
 "metadata": {
  "kernelspec": {
   "display_name": "Python 3",
   "language": "python",
   "name": "python3"
  },
  "language_info": {
   "codemirror_mode": {
    "name": "ipython",
    "version": 3
   },
   "file_extension": ".py",
   "mimetype": "text/x-python",
   "name": "python",
   "nbconvert_exporter": "python",
   "pygments_lexer": "ipython3",
   "version": "3.7.1"
  }
 },
 "nbformat": 4,
 "nbformat_minor": 2
}
