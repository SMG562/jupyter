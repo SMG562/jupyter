{
 "cells": [
  {
   "cell_type": "markdown",
   "metadata": {},
   "source": [
    "Generating N-grams from Sentences Python | Albert Au Yeung\n",
    "http://www.albertauyeung.com/post/generating-ngrams-python/"
   ]
  },
  {
   "cell_type": "code",
   "execution_count": 1,
   "metadata": {},
   "outputs": [],
   "source": [
    "# import regular expression package `re`\n",
    "import re "
   ]
  },
  {
   "cell_type": "code",
   "execution_count": 17,
   "metadata": {},
   "outputs": [
    {
     "name": "stdout",
     "output_type": "stream",
     "text": [
      "string2:bd\n",
      "type of string1:abcdefg\n"
     ]
    },
    {
     "data": {
      "text/plain": [
       "str"
      ]
     },
     "execution_count": 17,
     "metadata": {},
     "output_type": "execute_result"
    }
   ],
   "source": [
    "# example of slice\n",
    "string1 = 'abcdefg'\n",
    "string2 = string1[slice(1,5,2)]\n",
    "print(\"string2:\" + string2)\n",
    "print(\"type of string1:\" + string1)\n",
    "type(string1)\n",
    "# print(\"type of string2:\" + type(string1))\n",
    "\n",
    "\n"
   ]
  },
  {
   "cell_type": "code",
   "execution_count": 18,
   "metadata": {},
   "outputs": [
    {
     "name": "stdout",
     "output_type": "stream",
     "text": [
      "string2:aceg\n",
      "type of string2: <class 'str'>\n"
     ]
    }
   ],
   "source": [
    "# example2\n",
    "string1 = 'abcdefg'\n",
    "string2 = string1[::2]\n",
    "print(\"string2:\" + string2)\n",
    "print(\"type of string2:\" , type(string2))\n",
    "\n"
   ]
  },
  {
   "cell_type": "code",
   "execution_count": 20,
   "metadata": {},
   "outputs": [
    {
     "name": "stdout",
     "output_type": "stream",
     "text": [
      "string2: gfedcba\n",
      "type of string2: <class 'str'>\n"
     ]
    }
   ],
   "source": [
    "# example3\n",
    "string1 = 'abcdefg'\n",
    "string2 = string1[::-1]\n",
    "print(\"string2:\", string2)\n",
    "print(\"type of string2:\", type(string2) )"
   ]
  },
  {
   "cell_type": "code",
   "execution_count": 23,
   "metadata": {},
   "outputs": [
    {
     "name": "stdout",
     "output_type": "stream",
     "text": [
      "string2: abc\n",
      "type of string2: <class 'str'>\n"
     ]
    }
   ],
   "source": [
    "# example3\n",
    "string1 = 'abcdefg'\n",
    "string2 = string1[slice(3)]\n",
    "print(\"string2:\", string2)\n",
    "print(\"type of string2:\", type(string2) )"
   ]
  },
  {
   "cell_type": "code",
   "execution_count": 26,
   "metadata": {},
   "outputs": [
    {
     "name": "stdout",
     "output_type": "stream",
     "text": [
      "<class 'range'>\n",
      "0\n",
      "1\n",
      "2\n",
      "3\n",
      "4\n",
      "5\n",
      "[0, 1, 2, 3, 4, 5]\n"
     ]
    }
   ],
   "source": [
    "\n",
    "# range to list\n",
    "\n",
    "range1 = range(6)\n",
    "range1\n",
    "\n",
    "list1 =[]\n",
    "\n",
    "print(\"type of range1:\", type(range1))\n",
    "\n",
    "\n",
    "\n",
    "for i in range1:\n",
    "    \n",
    "    print(i)\n",
    "    list1.append(i)\n",
    "\n",
    "print(list1)\n",
    "\n",
    "print(\"type of list1:\",type(list1))\n"
   ]
  },
  {
   "cell_type": "code",
   "execution_count": 34,
   "metadata": {},
   "outputs": [
    {
     "name": "stdout",
     "output_type": "stream",
     "text": [
      "range1: range(0, 6)\n",
      "0\n",
      "1\n",
      "2\n",
      "3\n",
      "4\n",
      "5\n",
      "-------------\n",
      "type of range1: <class 'range'>\n",
      "0\n",
      "2\n",
      "4\n",
      "type of range2: <class 'range'>\n"
     ]
    }
   ],
   "source": [
    "# slice of range \n",
    "\n",
    "range1 = range(6)\n",
    "range1\n",
    "print(\"range1:\", range1)\n",
    "\n",
    "for i in range1:\n",
    "    print(i)\n",
    "\n",
    "print(\"-------------\")    \n",
    "\n",
    "print(\"type of range1:\", type(range1))\n",
    "\n",
    "range2 = range1[::2]\n",
    "\n",
    "for i in range2:\n",
    "    print(i)\n",
    "    \n",
    "print(\"type of range2:\", type(range2))\n",
    "    \n",
    "\n"
   ]
  },
  {
   "cell_type": "code",
   "execution_count": null,
   "metadata": {},
   "outputs": [],
   "source": []
  },
  {
   "cell_type": "code",
   "execution_count": null,
   "metadata": {},
   "outputs": [],
   "source": []
  },
  {
   "cell_type": "code",
   "execution_count": null,
   "metadata": {},
   "outputs": [],
   "source": []
  },
  {
   "cell_type": "code",
   "execution_count": 4,
   "metadata": {},
   "outputs": [],
   "source": [
    "# create a sentence instance \n",
    "\n",
    "sentence = \" Your Hand full of Hours, you came to me – and I said: ‘Your Hair is not brown.’ So you lifted it, lightly, onto the Balance of Grief, it was Heavier than I… \"\n"
   ]
  },
  {
   "cell_type": "code",
   "execution_count": 6,
   "metadata": {},
   "outputs": [
    {
     "data": {
      "text/plain": [
       "' your hand full of hours, you came to me – and i said: ‘your hair is not brown.’ so you lifted it, lightly, onto the balance of grief, it was heavier than i… '"
      ]
     },
     "execution_count": 6,
     "metadata": {},
     "output_type": "execute_result"
    }
   ],
   "source": [
    "sentence = sentence.lower()\n",
    "sentence\n"
   ]
  },
  {
   "cell_type": "code",
   "execution_count": 7,
   "metadata": {},
   "outputs": [
    {
     "data": {
      "text/plain": [
       "' your hand full of hours  you came to me   and i said   your hair is not brown   so you lifted it  lightly  onto the balance of grief  it was heavier than i  '"
      ]
     },
     "execution_count": 7,
     "metadata": {},
     "output_type": "execute_result"
    }
   ],
   "source": [
    "\n",
    "# Replace all the none alpha-number characters with space\n",
    "sentence = re.sub(r'[^a-zA-Z0-9\\s]', ' ', sentence)\n",
    "\n",
    "sentence"
   ]
  },
  {
   "cell_type": "code",
   "execution_count": 10,
   "metadata": {
    "scrolled": true
   },
   "outputs": [
    {
     "data": {
      "text/plain": [
       "['',\n",
       " 'your',\n",
       " 'hand',\n",
       " 'full',\n",
       " 'of',\n",
       " 'hours',\n",
       " '',\n",
       " 'you',\n",
       " 'came',\n",
       " 'to',\n",
       " 'me',\n",
       " '',\n",
       " '',\n",
       " 'and',\n",
       " 'i',\n",
       " 'said',\n",
       " '',\n",
       " '',\n",
       " 'your',\n",
       " 'hair',\n",
       " 'is',\n",
       " 'not',\n",
       " 'brown',\n",
       " '',\n",
       " '',\n",
       " 'so',\n",
       " 'you',\n",
       " 'lifted',\n",
       " 'it',\n",
       " '',\n",
       " 'lightly',\n",
       " '',\n",
       " 'onto',\n",
       " 'the',\n",
       " 'balance',\n",
       " 'of',\n",
       " 'grief',\n",
       " '',\n",
       " 'it',\n",
       " 'was',\n",
       " 'heavier',\n",
       " 'than',\n",
       " 'i',\n",
       " '',\n",
       " '']"
      ]
     },
     "execution_count": 10,
     "metadata": {},
     "output_type": "execute_result"
    }
   ],
   "source": [
    "# breake sentence into tokens\\\n",
    "# this stpe can be removed, just for explanation \n",
    "\n",
    "tokens_with_space = [token for token in sentence.split(\" \")]\n",
    "tokens_with_space\n"
   ]
  },
  {
   "cell_type": "code",
   "execution_count": 9,
   "metadata": {
    "scrolled": true
   },
   "outputs": [
    {
     "data": {
      "text/plain": [
       "['your',\n",
       " 'hand',\n",
       " 'full',\n",
       " 'of',\n",
       " 'hours',\n",
       " 'you',\n",
       " 'came',\n",
       " 'to',\n",
       " 'me',\n",
       " 'and',\n",
       " 'i',\n",
       " 'said',\n",
       " 'your',\n",
       " 'hair',\n",
       " 'is',\n",
       " 'not',\n",
       " 'brown',\n",
       " 'so',\n",
       " 'you',\n",
       " 'lifted',\n",
       " 'it',\n",
       " 'lightly',\n",
       " 'onto',\n",
       " 'the',\n",
       " 'balance',\n",
       " 'of',\n",
       " 'grief',\n",
       " 'it',\n",
       " 'was',\n",
       " 'heavier',\n",
       " 'than',\n",
       " 'i']"
      ]
     },
     "execution_count": 9,
     "metadata": {},
     "output_type": "execute_result"
    }
   ],
   "source": [
    "# breake sentence into tokens, remove empty tokens\n",
    "tokens = [token for token in sentence.split(\" \") if token !=\"\"]\n",
    "tokens \n"
   ]
  },
  {
   "cell_type": "code",
   "execution_count": 16,
   "metadata": {},
   "outputs": [
    {
     "data": {
      "text/plain": [
       "list"
      ]
     },
     "execution_count": 16,
     "metadata": {},
     "output_type": "execute_result"
    }
   ],
   "source": [
    "type(tokens)"
   ]
  },
  {
   "cell_type": "code",
   "execution_count": 12,
   "metadata": {},
   "outputs": [
    {
     "data": {
      "text/plain": [
       "<zip at 0x7fc64a1f9a88>"
      ]
     },
     "execution_count": 12,
     "metadata": {},
     "output_type": "execute_result"
    }
   ],
   "source": [
    "# generate n-grams\n",
    "\n",
    "# use the zip function to \n",
    "\n",
    "ngram = zip(*[tokens[i:] for i in range(5)])\n",
    "\n",
    "ngram"
   ]
  },
  {
   "cell_type": "code",
   "execution_count": 13,
   "metadata": {},
   "outputs": [
    {
     "data": {
      "text/plain": [
       "zip"
      ]
     },
     "execution_count": 13,
     "metadata": {},
     "output_type": "execute_result"
    }
   ],
   "source": [
    "type(ngram)"
   ]
  },
  {
   "cell_type": "code",
   "execution_count": 15,
   "metadata": {},
   "outputs": [
    {
     "ename": "SyntaxError",
     "evalue": "invalid syntax (<ipython-input-15-4f1760ec5de6>, line 1)",
     "output_type": "error",
     "traceback": [
      "\u001b[0;36m  File \u001b[0;32m\"<ipython-input-15-4f1760ec5de6>\"\u001b[0;36m, line \u001b[0;32m1\u001b[0m\n\u001b[0;31m    n_gram[]  = \" \".join(ngram) for ngram in ngrams\u001b[0m\n\u001b[0m           ^\u001b[0m\n\u001b[0;31mSyntaxError\u001b[0m\u001b[0;31m:\u001b[0m invalid syntax\n"
     ]
    }
   ],
   "source": [
    "n_gram  = \" \".join(ngram) for ngram in ngrams\n",
    "ngram\n"
   ]
  },
  {
   "cell_type": "code",
   "execution_count": null,
   "metadata": {},
   "outputs": [],
   "source": []
  },
  {
   "cell_type": "code",
   "execution_count": null,
   "metadata": {},
   "outputs": [],
   "source": []
  },
  {
   "cell_type": "code",
   "execution_count": null,
   "metadata": {},
   "outputs": [],
   "source": []
  },
  {
   "cell_type": "code",
   "execution_count": null,
   "metadata": {},
   "outputs": [],
   "source": []
  },
  {
   "cell_type": "code",
   "execution_count": null,
   "metadata": {},
   "outputs": [],
   "source": []
  },
  {
   "cell_type": "code",
   "execution_count": null,
   "metadata": {},
   "outputs": [],
   "source": []
  },
  {
   "cell_type": "code",
   "execution_count": null,
   "metadata": {},
   "outputs": [],
   "source": []
  },
  {
   "cell_type": "code",
   "execution_count": null,
   "metadata": {},
   "outputs": [],
   "source": []
  },
  {
   "cell_type": "code",
   "execution_count": null,
   "metadata": {},
   "outputs": [],
   "source": []
  }
 ],
 "metadata": {
  "kernelspec": {
   "display_name": "Python 3",
   "language": "python",
   "name": "python3"
  },
  "language_info": {
   "codemirror_mode": {
    "name": "ipython",
    "version": 3
   },
   "file_extension": ".py",
   "mimetype": "text/x-python",
   "name": "python",
   "nbconvert_exporter": "python",
   "pygments_lexer": "ipython3",
   "version": "3.7.1"
  }
 },
 "nbformat": 4,
 "nbformat_minor": 2
}
